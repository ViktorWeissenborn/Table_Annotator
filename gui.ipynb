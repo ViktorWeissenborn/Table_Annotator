{
 "cells": [
  {
   "cell_type": "code",
   "execution_count": 8,
   "metadata": {},
   "outputs": [
    {
     "name": "stderr",
     "output_type": "stream",
     "text": [
      "invalid command name \"4875191488update\"\n",
      "    while executing\n",
      "\"4875191488update\"\n",
      "    (\"after\" script)\n",
      "invalid command name \"4560377408check_dpi_scaling\"\n",
      "    while executing\n",
      "\"4560377408check_dpi_scaling\"\n",
      "    (\"after\" script)\n"
     ]
    },
    {
     "name": "stdout",
     "output_type": "stream",
     "text": [
      "Cell clicked: 1\n",
      "Cell clicked: 2\n",
      "Cell clicked: 3\n",
      "Cell clicked: 8\n",
      "Cell clicked: 9\n",
      "Cell clicked: 7\n"
     ]
    },
    {
     "ename": "",
     "evalue": "",
     "output_type": "error",
     "traceback": [
      "\u001b[1;31mThe Kernel crashed while executing code in the current cell or a previous cell. \n",
      "\u001b[1;31mPlease review the code in the cell(s) to identify a possible cause of the failure. \n",
      "\u001b[1;31mClick <a href='https://aka.ms/vscodeJupyterKernelCrash'>here</a> for more info. \n",
      "\u001b[1;31mView Jupyter <a href='command:jupyter.viewOutput'>log</a> for further details."
     ]
    }
   ],
   "source": [
    "# Assuming you have a CustomTkinter library (CustomTkinter.py) with basic widget support\n",
    "# Replace the following imports with the actual CustomTkinter imports\n",
    "\n",
    "import customtkinter as ctk\n",
    "\n",
    "def parse_input_string(input_str):\n",
    "    try:\n",
    "        # Evaluate the input string to get a list of lists\n",
    "        return eval(input_str)\n",
    "    except Exception as e:\n",
    "        ctk.show_error(\"Error\", f\"Invalid input: {e}\")\n",
    "        return None\n",
    "\n",
    "def create_table(root, data):\n",
    "    # Create a simple grid-based table\n",
    "    for row_idx, row in enumerate(data):\n",
    "        for col_idx, value in enumerate(row):\n",
    "            cell = ctk.CTkLabel(root, text=str(value), width=1)\n",
    "            cell.grid(row=row_idx, column=col_idx, padx=5, pady=5)\n",
    "            cell.bind(\"<Button-1>\", lambda event, val=value: cell_clicked(val))\n",
    "\n",
    "def cell_clicked(value):\n",
    "    # Handle cell click event (you can customize this)\n",
    "    print(f\"Cell clicked: {value}\")\n",
    "\n",
    "def export_to_json(data):\n",
    "    # Convert data to JSON format (you can customize this)\n",
    "    json_data = {\"table_data\": data}\n",
    "    print(json_data)\n",
    "\n",
    "if __name__ == \"__main__\":\n",
    "    root = ctk.CTk()\n",
    "    root.title(\"CustomTkinter Table Example\")\n",
    "\n",
    "    # Example input string (you can replace this with user input)\n",
    "    input_string = \"[[1, 2, 3], [4, 5, 6], [7, 8, 9]]\"\n",
    "\n",
    "    # Parse the input string\n",
    "    table_data = parse_input_string(input_string)\n",
    "    if table_data:\n",
    "        create_table(root, table_data)\n",
    "\n",
    "        # Export button\n",
    "        export_button = ctk.CTkButton(root, text=\"Export JSON\", command=lambda: export_to_json(table_data))\n",
    "        export_button.grid(row=len(table_data), columnspan=len(table_data[0]), pady=10)\n",
    "\n",
    "    root.mainloop()\n"
   ]
  }
 ],
 "metadata": {
  "kernelspec": {
   "display_name": "table_anno_gui",
   "language": "python",
   "name": "python3"
  },
  "language_info": {
   "codemirror_mode": {
    "name": "ipython",
    "version": 3
   },
   "file_extension": ".py",
   "mimetype": "text/x-python",
   "name": "python",
   "nbconvert_exporter": "python",
   "pygments_lexer": "ipython3",
   "version": "3.12.2"
  }
 },
 "nbformat": 4,
 "nbformat_minor": 2
}
