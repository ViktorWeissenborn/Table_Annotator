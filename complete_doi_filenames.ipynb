{
 "cells": [
  {
   "cell_type": "code",
   "execution_count": 6,
   "metadata": {},
   "outputs": [],
   "source": [
    "import os\n",
    "\n",
    "path_ = \"/Users/viktorweissenborn/code/table_annotation/table_annotator/bioc_50_elsev_cde232\"\n",
    "\n",
    "files = os.listdir(path_)\n",
    "\n",
    "f_news = []\n",
    "\n",
    "for f in files:\n",
    "    f_old = os.path.join(path_, f)\n",
    "    add = f.replace(\"10_1060__\", \"\")\n",
    "    f_new = os.path.join(path_, add)\n",
    "    os.rename(f_old,f_new)"
   ]
  }
 ],
 "metadata": {
  "kernelspec": {
   "display_name": "test1",
   "language": "python",
   "name": "python3"
  },
  "language_info": {
   "codemirror_mode": {
    "name": "ipython",
    "version": 3
   },
   "file_extension": ".py",
   "mimetype": "text/x-python",
   "name": "python",
   "nbconvert_exporter": "python",
   "pygments_lexer": "ipython3",
   "version": "3.12.2"
  }
 },
 "nbformat": 4,
 "nbformat_minor": 2
}
