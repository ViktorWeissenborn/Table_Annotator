{
 "cells": [
  {
   "cell_type": "code",
   "execution_count": 23,
   "metadata": {},
   "outputs": [
    {
     "name": "stdout",
     "output_type": "stream",
     "text": [
      "[[[Cell('λmax (nm) 🙃🙃🙃🙃 Compounds 🙃🙃🙃🙃 UV characteristics', 0, 48), Cell('MS 🙃🙃🙃🙃 Compounds 🙃🙃🙃🙃 Observed fragment ions at m/z value (relative abundance)', 0, 79), Cell('MS / MS 🙃🙃🙃🙃 Compounds 🙃🙃🙃🙃 Observed fragment ions at m/z value (relative abundance)', 0, 84), Cell('Chemical structures proposed 🙃🙃🙃🙃 Compounds 🙃🙃🙃🙃 Chemical structures proposed', 0, 77), Cell('244 🙃🙃🙃🙃 PRC 🙃🙃🙃🙃 UV characteristics', 0, 36), Cell('152 (100) 🙃🙃🙃🙃 PRC 🙃🙃🙃🙃 Observed fragment ions at m/z value (relative abundance)', 0, 80), Cell('110 (100) 🙃🙃🙃🙃 PRC 🙃🙃🙃🙃 Observed fragment ions at m/z value (relative abundance)', 0, 80), Cell('NoValue 🙃🙃🙃🙃 PRC 🙃🙃🙃🙃 Chemical structures proposed', 0, 50), Cell('NoValue 🙃🙃🙃🙃  🙃🙃🙃🙃 UV characteristics', 0, 37), Cell('NoValue 🙃🙃🙃🙃  🙃🙃🙃🙃 Observed fragment ions at m/z value (relative abundance)', 0, 75), Cell('NoValue 🙃🙃🙃🙃  🙃🙃🙃🙃 Observed fragment ions at m/z value (relative abundance)', 0, 75), Cell('MM = 151.16 g mol−1 🙃🙃🙃🙃  🙃🙃🙃🙃 Chemical structures proposed', 0, 59), Cell('223 and 290 🙃🙃🙃🙃 Product I – Hydroquinone 🙃🙃🙃🙃 UV characteristics', 0, 65), Cell('nd 🙃🙃🙃🙃 Product I – Hydroquinone 🙃🙃🙃🙃 Observed fragment ions at m/z value (relative abundance)', 0, 94), Cell('nd 🙃🙃🙃🙃 Product I – Hydroquinone 🙃🙃🙃🙃 Observed fragment ions at m/z value (relative abundance)', 0, 94), Cell('NoValue 🙃🙃🙃🙃 Product I – Hydroquinone 🙃🙃🙃🙃 Chemical structures proposed', 0, 71), Cell('NoValue 🙃🙃🙃🙃  🙃🙃🙃🙃 UV characteristics', 0, 37), Cell('NoValue 🙃🙃🙃🙃  🙃🙃🙃🙃 Observed fragment ions at m/z value (relative abundance)', 0, 75), Cell('NoValue 🙃🙃🙃🙃  🙃🙃🙃🙃 Observed fragment ions at m/z value (relative abundance)', 0, 75), Cell('MM = 110 g mol−1 🙃🙃🙃🙃  🙃🙃🙃🙃 Chemical structures proposed', 0, 56), Cell('220, 244 and 286 🙃🙃🙃🙃 Product II 🙃🙃🙃🙃 UV characteristics', 0, 56), Cell('168 (100) 🙃🙃🙃🙃 Product II 🙃🙃🙃🙃 Observed fragment ions at m/z value (relative abundance)', 0, 87), Cell('150 (12); 126 (100); 108 (24) 🙃🙃🙃🙃 Product II 🙃🙃🙃🙃 Observed fragment ions at m/z value (relative abundance)', 0, 107), Cell('NoValue 🙃🙃🙃🙃 Product II 🙃🙃🙃🙃 Chemical structures proposed', 0, 57), Cell('NoValue 🙃🙃🙃🙃  🙃🙃🙃🙃 UV characteristics', 0, 37), Cell('NoValue 🙃🙃🙃🙃  🙃🙃🙃🙃 Observed fragment ions at m/z value (relative abundance)', 0, 75), Cell('NoValue 🙃🙃🙃🙃  🙃🙃🙃🙃 Observed fragment ions at m/z value (relative abundance)', 0, 75), Cell('MM = 167 g mol−1 🙃🙃🙃🙃  🙃🙃🙃🙃 Chemical structures proposed', 0, 56), Cell('nd 🙃🙃🙃🙃 Product III 🙃🙃🙃🙃 UV characteristics', 0, 43), Cell('200 (100) 154 (15) 181 (5) 🙃🙃🙃🙃 Product III 🙃🙃🙃🙃 Observed fragment ions at m/z value (relative abundance)', 0, 105), Cell('182 (53); 172 (100); 158 (47); 154 (100); 140 (33) 🙃🙃🙃🙃 Product III 🙃🙃🙃🙃 Observed fragment ions at m/z value (relative abundance)', 0, 129), Cell('NoValue 🙃🙃🙃🙃 Product III 🙃🙃🙃🙃 Chemical structures proposed', 0, 58), Cell('NoValue 🙃🙃🙃🙃  🙃🙃🙃🙃 UV characteristics', 0, 37), Cell('NoValue 🙃🙃🙃🙃  🙃🙃🙃🙃 Observed fragment ions at m/z value (relative abundance)', 0, 75), Cell('NoValue 🙃🙃🙃🙃  🙃🙃🙃🙃 Observed fragment ions at m/z value (relative abundance)', 0, 75), Cell('MM = 199 g mol−1 🙃🙃🙃🙃  🙃🙃🙃🙃 Chemical structures proposed', 0, 56)]]]\n"
     ]
    }
   ],
   "source": [
    "import tabledataextractor\n",
    "from tabledataextractor import Table\n",
    "from chemdataextractor import Document\n",
    "from chemdataextractor.doc import Table as Cde_tab\n",
    "\n",
    "jsepp = \"/Users/viktorweissenborn/code/table_annotation/table_annotator/rawElsevXML_testCorpus50/j_seppur_2014_09_004.xml\"\n",
    "\n",
    "f = open(jsepp, \"rb\")\n",
    "doc = Document.from_file(f)\n",
    "\n",
    "for e in doc.elements:\n",
    "    if type(e) == Cde_tab:\n",
    "        e: Cde_tab\n",
    "        print(e.cde_tables)\n",
    "        break"
   ]
  },
  {
   "cell_type": "code",
   "execution_count": 28,
   "metadata": {},
   "outputs": [
    {
     "name": "stdout",
     "output_type": "stream",
     "text": [
      "U+1F643\n"
     ]
    }
   ],
   "source": [
    "emoji = \"🙃\"\n",
    "code_point = ord(emoji)\n",
    "raw_unicode = f\"U+{code_point:04X}\"\n",
    "print(raw_unicode)\n"
   ]
  },
  {
   "cell_type": "code",
   "execution_count": 25,
   "metadata": {},
   "outputs": [
    {
     "data": {
      "text/plain": [
       "array([['StubHeader', 'ColHeader', 'ColHeader', 'ColHeader', 'ColHeader'],\n",
       "       ['StubHeader', 'ColHeader', 'ColHeader', 'ColHeader', 'ColHeader'],\n",
       "       ['RowHeader', 'Data', 'Data', 'Data', 'Data'],\n",
       "       ['RowHeader', 'Data', 'Data', 'Data', 'Data'],\n",
       "       ['RowHeader', 'Data', 'Data', 'Data', 'Data'],\n",
       "       ['RowHeader', 'Data', 'Data', 'Data', 'Data'],\n",
       "       ['RowHeader', 'Data', 'Data', 'Data', 'Data'],\n",
       "       ['RowHeader', 'Data', 'Data', 'Data', 'Data'],\n",
       "       ['RowHeader', 'Data', 'Data', 'Data', 'Data'],\n",
       "       ['RowHeader', 'Data', 'Data', 'Data', 'Data']], dtype='<U60')"
      ]
     },
     "execution_count": 25,
     "metadata": {},
     "output_type": "execute_result"
    }
   ],
   "source": [
    "buggy_tab_data = [['Compounds', 'UV characteristics', 'Observed fragment ions at m/z value (relative abundance)', 'Observed fragment ions at m/z value (relative abundance)', 'Chemical structures proposed'], \n",
    "                  ['Compounds', 'λmax (nm)', 'MS', 'MS / MS', 'Chemical structures proposed'], \n",
    "                  ['PRC', '244', '152 (100)', '110 (100)', ''], \n",
    "                  ['a', 'b', 'c', 'd', 'MM = 151.16 g mol−1'], \n",
    "                  ['Product I – Hydroquinone', '223 and 290', 'nd', 'nd', ''], \n",
    "                  ['e', 'f', 'g', 'h', 'MM = 110 g mol−1'], \n",
    "                  ['Product II', '220, 244 and 286', '168 (100)', '150 (12); 126 (100); 108 (24)', ''], \n",
    "                  ['i', 'j', 'k', 'l', 'MM = 167 g mol−1'], \n",
    "                  ['Product III', 'nd', '200 (100) 154 (15) 181 (5)', '182 (53); 172 (100); 158 (47); 154 (100); 140 (33)', ''], \n",
    "                  ['m', 'n', 'o', 'p', 'MM = 199 g mol−1']]\n",
    "\n",
    "buggy_tab = Table(buggy_tab_data)\n",
    "\n",
    "buggy_tab.labels"
   ]
  },
  {
   "cell_type": "code",
   "execution_count": null,
   "metadata": {},
   "outputs": [],
   "source": [
    "tab_data = [['Investigators', 'Type of study', 'Pipe material', 'Ktotal (1/day)', 'Kbulk (1/day)', 'Kwall (ft/day)'], ['', 'Field', 'Gray cast iron', '3.17', '1.58', '0.13'], ['', 'Field', 'Ductile cast iron', '9.94', '2.88', '0.58'], ['', 'Field', 'Ductile cast iron', '8.21', '1.15', '0.58'], ['', 'Field', 'Unlined cast iron', '7.78', 'N/A', 'N/A'], ['', 'Field', 'Unlined cast iron', '5.76', 'N/A', 'N/A'], ['', 'Field', 'PVC', '4.90', 'N/A', 'N/A'], ['', 'Field', 'Gray cast iron', '4.32', '0.12', '0.86'], ['', 'Field', 'Gray cast iron', '1.44', '0.12', '0.27'], ['', 'Modeling', 'Unlined cast iron', 'N/A', '0.55', '1.50'], ['Vasconcelos', 'Modeling', 'Asbestos cement', 'N/A', '1.16', '0.00'], ['et al. (1997)', 'Modeling', 'Unlined cast iron', 'N/A', '0.83', '2.49'], ['', 'Modeling', 'Unlined galvanized iron', 'N/A', '0.23', '0.89'], ['', 'Modeling', 'Unlined cast iron', 'N/A', '17.70', '4.99'], ['', 'Modeling', 'Cement-lined ductile iron', 'N/A', '0.77', '0.10'], ['', 'Simulator', 'Cement-lined cast iron', '2.90', '0.00', '0.24'], ['', 'Simulator', 'Cement-lined cast iron', '3.60', '0.52', '0.25'], ['', 'Simulator', 'Cement-lined cast iron', '12.10', '0.54', '0.98'], ['', 'Simulator', 'Unlined ductile iron', '2.7–3.7', '0.25–0.49', '0.31–0.43']]\n",
    "\n",
    "tab_data_strip = [['Investigators', 'Type of study', 'Pipe material', 'Ktotal (1/day)', 'Kbulk (1/day)', 'Kwall (ft/day)'], \n",
    "                  ['', 'Field', 'Gray cast iron', '3.17', '1.58', '0.13'], \n",
    "                  ['', 'Field', 'Ductile cast iron', '9.94', '2.88', '0.58'], \n",
    "                  ['', 'Field', 'Ductile cast iron', '8.21', '1.15', '0.58'], \n",
    "                  ['', 'Field', 'Unlined cast iron', '7.78', 'N/A', 'N/A'], \n",
    "                  ['', 'Field', 'Unlined cast iron', '5.76', 'N/A', 'N/A'], \n",
    "                  ['', 'Field', 'PVC', '4.90', 'N/A', 'N/A'], \n",
    "                  ['', 'Field', 'Gray cast iron', '4.32', '0.12', '0.86'], \n",
    "                  ['', 'Field', 'Gray cast iron', '1.44', '0.12', '0.27'], \n",
    "                  ['', 'Modeling', 'Unlined cast iron', 'N/A', '0.55', '1.50'], \n",
    "                  ['Vasconcelos', 'Modeling', 'Asbestos cement', 'N/A', '1.16', '0.00'], \n",
    "                  ['et al. (1997)', 'Modeling', 'Unlined cast iron', 'N/A', '0.83', '2.49'], \n",
    "                  ['', 'Modeling', 'Unlined galvanized iron', 'N/A', '0.23', '0.89'], \n",
    "                  ['', 'Modeling', 'Unlined cast iron', 'N/A', '17.70', '4.99'], \n",
    "                  ['', 'Modeling', 'Cement-lined ductile iron', 'N/A', '0.77', '0.10'], \n",
    "                  ['', 'Simulator', 'Cement-lined cast iron', '2.90', '0.00', '0.24'], \n",
    "                  ['', 'Simulator', 'Cement-lined cast iron', '3.60', '0.52', '0.25'], \n",
    "                  ['', 'Simulator', 'Cement-lined cast iron', '12.10', '0.54', '0.98']]\n",
    "\n",
    "\n",
    "tab = Table(tab_data_strip)"
   ]
  },
  {
   "cell_type": "code",
   "execution_count": null,
   "metadata": {},
   "outputs": [],
   "source": [
    "tab_data_strip = [\n",
    "    ['Investigators', 'Type of study', 'Pipe material', 'Ktotal (1/day)', 'Kbulk (1/day)', 'Kwall (ft/day)'],\n",
    "    ['Unknown', 'Field', 'Gray cast iron', '3.17', '1.58', '0.13'], \n",
    "    ['Unknown', 'Field', 'Ductile cast iron', '9.94', '2.88', '0.58'], \n",
    "    ['Unknown', 'Field', 'Ductile cast iron', '8.21', '1.15', '0.58'], \n",
    "    ['Unknown', 'Field', 'Unlined cast iron', '7.78', 'N/A', 'N/A'], \n",
    "    ['Unknown', 'Field', 'Unlined cast iron', '5.76', 'N/A', 'N/A'], \n",
    "    ['Unknown', 'Field', 'PVC', '4.90', 'N/A', 'N/A'], \n",
    "    ['Unknown', 'Field', 'Gray cast iron', '4.32', '0.12', '0.86'], \n",
    "    ['Unknown', 'Field', 'Gray cast iron', '1.44', '0.12', '0.27'], \n",
    "    ['Unknown', 'Modeling', 'Unlined cast iron', 'N/A', '0.55', '1.50'], \n",
    "    ['Vasconcelos', 'Modeling', 'Asbestos cement', 'N/A', '1.16', '0.00'], \n",
    "    ['Vasconcelos et al. (1997)', 'Modeling', 'Unlined cast iron', 'N/A', '0.83', '2.49'], \n",
    "    ['Vasconcelos', 'Modeling', 'Unlined galvanized iron', 'N/A', '0.23', '0.89'], \n",
    "    ['Vasconcelos', 'Modeling', 'Unlined cast iron', 'N/A', '17.70', '4.99'], \n",
    "    ['Vasconcelos', 'Modeling', 'Cement-lined ductile iron', 'N/A', '0.77', '0.10'], \n",
    "    ['Unknown', 'Simulator', 'Cement-lined cast iron', '2.90', '0.00', '0.24'], \n",
    "    ['Unknown', 'Simulator', 'Cement-lined cast iron', '3.60', '0.52', '0.25'], \n",
    "    ['Unknown', 'Simulator', 'Cement-lined cast iron', '12.10', '0.54', '0.98']\n",
    "]"
   ]
  },
  {
   "cell_type": "code",
   "execution_count": 4,
   "metadata": {},
   "outputs": [
    {
     "name": "stdout",
     "output_type": "stream",
     "text": [
      "[['Investigators', 'Type of study', 'Pipe material', 'Ktotal (1/day)', 'Kbulk (1/day)', 'Kwall (ft/day)'], ['', 'Field', 'Gray cast iron', '3.17', '1.58', '0.13'], ['', 'Field', 'Ductile cast iron', '9.94', '2.88', '0.58'], ['', 'Field', 'Ductile cast iron', '8.21', '1.15', '0.58'], ['', 'Field', 'Unlined cast iron', '7.78', 'N/A', 'N/A'], ['', 'Field', 'Unlined cast iron', '5.76', 'N/A', 'N/A'], ['', 'Field', 'PVC', '4.90', 'N/A', 'N/A'], ['', 'Field', 'Gray cast iron', '4.32', '0.12', '0.86'], ['', 'Field', 'Gray cast iron', '1.44', '0.12', '0.27'], ['', 'Modeling', 'Unlined cast iron', 'N/A', '0.55', '1.50'], ['Vasconcelos', 'Modeling', 'Asbestos cement', 'N/A', '1.16', '0.00'], ['et al. (1997)', 'Modeling', 'Unlined cast iron', 'N/A', '0.83', '2.49'], ['', 'Modeling', 'Unlined galvanized iron', 'N/A', '0.23', '0.89'], ['', 'Modeling', 'Unlined cast iron', 'N/A', '17.70', '4.99'], ['', 'Modeling', 'Cement-lined ductile iron', 'N/A', '0.77', '0.10'], ['', 'Simulator', 'Cement-lined cast iron', '2.90', '0.00', '0.24'], ['', 'Simulator', 'Cement-lined cast iron', '3.60', '0.52', '0.25'], ['', 'Simulator', 'Cement-lined cast iron', '12.10', '0.54', '0.98'], ['', 'Simulator', 'Unlined ductile iron', '2.7–3.7', '0.25–0.49', '0.31–0.43']]\n",
      "6\n",
      "['Investigators', 'Type of study', 'Pipe material', 'Ktotal (1/day)', 'Kbulk (1/day)', 'Kwall (ft/day)']\n",
      "6\n",
      "['', 'Field', 'Gray cast iron', '3.17', '1.58', '0.13']\n",
      "6\n",
      "['', 'Field', 'Ductile cast iron', '9.94', '2.88', '0.58']\n",
      "6\n",
      "['', 'Field', 'Ductile cast iron', '8.21', '1.15', '0.58']\n",
      "6\n",
      "['', 'Field', 'Unlined cast iron', '7.78', 'N/A', 'N/A']\n",
      "6\n",
      "['', 'Field', 'Unlined cast iron', '5.76', 'N/A', 'N/A']\n",
      "6\n",
      "['', 'Field', 'PVC', '4.90', 'N/A', 'N/A']\n",
      "6\n",
      "['', 'Field', 'Gray cast iron', '4.32', '0.12', '0.86']\n",
      "6\n",
      "['', 'Field', 'Gray cast iron', '1.44', '0.12', '0.27']\n",
      "6\n",
      "['', 'Modeling', 'Unlined cast iron', 'N/A', '0.55', '1.50']\n",
      "6\n",
      "['Vasconcelos', 'Modeling', 'Asbestos cement', 'N/A', '1.16', '0.00']\n",
      "6\n",
      "['et al. (1997)', 'Modeling', 'Unlined cast iron', 'N/A', '0.83', '2.49']\n",
      "6\n",
      "['', 'Modeling', 'Unlined galvanized iron', 'N/A', '0.23', '0.89']\n",
      "6\n",
      "['', 'Modeling', 'Unlined cast iron', 'N/A', '17.70', '4.99']\n",
      "6\n",
      "['', 'Modeling', 'Cement-lined ductile iron', 'N/A', '0.77', '0.10']\n",
      "6\n",
      "['', 'Simulator', 'Cement-lined cast iron', '2.90', '0.00', '0.24']\n",
      "6\n",
      "['', 'Simulator', 'Cement-lined cast iron', '3.60', '0.52', '0.25']\n",
      "6\n",
      "['', 'Simulator', 'Cement-lined cast iron', '12.10', '0.54', '0.98']\n",
      "6\n",
      "['', 'Simulator', 'Unlined ductile iron', '2.7–3.7', '0.25–0.49', '0.31–0.43']\n"
     ]
    }
   ],
   "source": [
    "print(tab_data)\n",
    "\n",
    "for t in tab_data:\n",
    "    print(len(t))\n",
    "    print(t)"
   ]
  },
  {
   "cell_type": "code",
   "execution_count": null,
   "metadata": {},
   "outputs": [],
   "source": []
  }
 ],
 "metadata": {
  "kernelspec": {
   "display_name": "test1",
   "language": "python",
   "name": "python3"
  },
  "language_info": {
   "codemirror_mode": {
    "name": "ipython",
    "version": 3
   },
   "file_extension": ".py",
   "mimetype": "text/x-python",
   "name": "python",
   "nbconvert_exporter": "python",
   "pygments_lexer": "ipython3",
   "version": "3.8.1"
  }
 },
 "nbformat": 4,
 "nbformat_minor": 2
}
